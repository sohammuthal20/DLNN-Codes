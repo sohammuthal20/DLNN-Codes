{
 "cells": [
  {
   "cell_type": "code",
   "execution_count": 1,
   "metadata": {
    "id": "QduixtHiQjkV"
   },
   "outputs": [
    {
     "name": "stderr",
     "output_type": "stream",
     "text": [
      "2024-11-12 23:30:07.881673: I external/local_xla/xla/tsl/cuda/cudart_stub.cc:32] Could not find cuda drivers on your machine, GPU will not be used.\n",
      "2024-11-12 23:30:07.884426: I external/local_xla/xla/tsl/cuda/cudart_stub.cc:32] Could not find cuda drivers on your machine, GPU will not be used.\n",
      "2024-11-12 23:30:07.891777: E external/local_xla/xla/stream_executor/cuda/cuda_fft.cc:485] Unable to register cuFFT factory: Attempting to register factory for plugin cuFFT when one has already been registered\n",
      "2024-11-12 23:30:07.904554: E external/local_xla/xla/stream_executor/cuda/cuda_dnn.cc:8454] Unable to register cuDNN factory: Attempting to register factory for plugin cuDNN when one has already been registered\n",
      "2024-11-12 23:30:07.908819: E external/local_xla/xla/stream_executor/cuda/cuda_blas.cc:1452] Unable to register cuBLAS factory: Attempting to register factory for plugin cuBLAS when one has already been registered\n",
      "2024-11-12 23:30:07.921750: I tensorflow/core/platform/cpu_feature_guard.cc:210] This TensorFlow binary is optimized to use available CPU instructions in performance-critical operations.\n",
      "To enable the following instructions: AVX2 FMA, in other operations, rebuild TensorFlow with the appropriate compiler flags.\n",
      "2024-11-12 23:30:09.333872: W tensorflow/compiler/tf2tensorrt/utils/py_utils.cc:38] TF-TRT Warning: Could not find TensorRT\n"
     ]
    }
   ],
   "source": [
    "import tensorflow as tf"
   ]
  },
  {
   "cell_type": "code",
   "execution_count": 2,
   "metadata": {
    "id": "JJULzKzkQnzb"
   },
   "outputs": [],
   "source": [
    "import keras"
   ]
  },
  {
   "cell_type": "code",
   "execution_count": 3,
   "metadata": {
    "colab": {
     "base_uri": "https://localhost:8080/"
    },
    "id": "lfRYuRqfQw_l",
    "outputId": "6c62600c-0c84-4988-f521-d0d02fba31d7"
   },
   "outputs": [
    {
     "name": "stdout",
     "output_type": "stream",
     "text": [
      "2.17.0\n"
     ]
    }
   ],
   "source": [
    "print(tf.__version__)"
   ]
  },
  {
   "cell_type": "code",
   "execution_count": 4,
   "metadata": {
    "colab": {
     "base_uri": "https://localhost:8080/"
    },
    "id": "gNSeljRbQ9Wk",
    "outputId": "26c2acc6-f4a5-4b4c-ee8a-a2009b8169e9"
   },
   "outputs": [
    {
     "name": "stdout",
     "output_type": "stream",
     "text": [
      "3.5.0\n"
     ]
    }
   ],
   "source": [
    "print(keras.__version__)"
   ]
  },
  {
   "cell_type": "code",
   "execution_count": 5,
   "metadata": {
    "id": "M1Sp2BA6L8fE"
   },
   "outputs": [],
   "source": [
    "!pip install -q kaggle"
   ]
  },
  {
   "cell_type": "code",
   "execution_count": 6,
   "metadata": {
    "colab": {
     "base_uri": "https://localhost:8080/"
    },
    "id": "lOe4FyQkWq9y",
    "outputId": "b9261671-851c-4b79-8753-3da4587bc51f"
   },
   "outputs": [
    {
     "name": "stdout",
     "output_type": "stream",
     "text": [
      "Warning: Your Kaggle API key is readable by other users on this system! To fix this, you can run 'chmod 600 /home/samarth/.kaggle/kaggle.json'\n",
      "ref                                                            title                                              size  lastUpdated          downloadCount  voteCount  usabilityRating  \n",
      "-------------------------------------------------------------  ------------------------------------------------  -----  -------------------  -------------  ---------  ---------------  \n",
      "valakhorasani/mobile-device-usage-and-user-behavior-dataset    Mobile Device Usage and User Behavior Dataset      11KB  2024-09-28 20:21:12          23912        481  1.0              \n",
      "muhammadroshaanriaz/students-performance-dataset-cleaned       Students Performance | Clean Dataset               10KB  2024-10-29 19:32:26           3414         63  1.0              \n",
      "captaindatasets/istanbul-mall                                  California Mall Customer Sales Dataset              7MB  2024-11-09 05:33:36           1390         27  0.88235295       \n",
      "valakhorasani/gym-members-exercise-dataset                     Gym Members Exercise Dataset                       22KB  2024-10-06 11:27:38          13697        199  1.0              \n",
      "willianoliveiragibin/phone-information-2024                    Phone Information 2024                             74KB  2024-10-20 19:04:06           1252         25  1.0              \n",
      "uom190346a/mental-health-diagnosis-and-treatment-monitoring    Mental Health Diagnosis and Treatment Monitoring   10KB  2024-11-07 05:49:42           1157         32  1.0              \n",
      "computingvictor/transactions-fraud-datasets                    💳 Financial Transactions Dataset: Analytics       348MB  2024-10-31 21:29:56           1805         35  1.0              \n",
      "taweilo/loan-approval-classification-data                      Loan Approval Classification Dataset              751KB  2024-10-29 04:07:34           2935         50  1.0              \n",
      "valakhorasani/bank-transaction-dataset-for-fraud-detection     Bank Transaction Dataset for Fraud Detection      102KB  2024-11-04 09:23:49           1486         37  1.0              \n",
      "arpitsinghaiml/most-dangerous-countries-for-women-2024         Most Dangerous Countries for Women 2024             3KB  2024-11-04 08:08:04            954         29  1.0              \n",
      "mexwell/gym-check-ins-and-user-metadata                        🏋🏽‍♀️ Gym Check-ins and User Metadata               5MB  2024-10-15 14:30:32           1319         27  1.0              \n",
      "bhadramohit/mental-health-dataset                              Mental Health Dataset                              13KB  2024-10-22 12:08:16           1547         26  1.0              \n",
      "jacopoferretti/wages-and-education-of-young-males-dataset      Wages and Education of Young Males Dataset         72KB  2024-10-31 21:07:44            993         28  1.0              \n",
      "kanchana1990/real-estate-data-london-2024                      Real Estate Data London 2024                      559KB  2024-11-06 21:15:31            581         32  1.0              \n",
      "refiaozturk/spotify-songs-dataset                              50K Songs Dataset - Generated by AI                 3MB  2024-11-06 11:50:25            773         32  1.0              \n",
      "whisperingkahuna/premier-league-2324-team-and-player-insights  Premier League 23/24 ⚽: Team & Player Stats 📊     196KB  2024-10-30 08:59:41           1314         27  1.0              \n",
      "bhadramohit/social-media-usage-datasetapplications             Social Media Usage Dataset(Applications)            9KB  2024-10-23 05:33:28           1901         30  1.0              \n",
      "bhadramohit/world-bank-dataset                                 World Bank Dataset                                  5KB  2024-10-20 14:57:06           2198         34  1.0              \n",
      "brsahan/data-science-job                                       Data Science Job                                   80KB  2024-11-03 10:13:11           1089         40  1.0              \n",
      "dakshbhalala/uci-air-quality-dataset                           UCI Air Quality Dataset                           246KB  2024-10-15 15:10:02           1145         25  1.0              \n"
     ]
    }
   ],
   "source": [
    "!kaggle datasets list"
   ]
  },
  {
   "cell_type": "code",
   "execution_count": 7,
   "metadata": {
    "colab": {
     "base_uri": "https://localhost:8080/"
    },
    "id": "T2EBcDi6XlBs",
    "outputId": "a077ab7e-ec5e-4c41-8a7a-6e5f687ae301"
   },
   "outputs": [
    {
     "name": "stdout",
     "output_type": "stream",
     "text": [
      "Warning: Your Kaggle API key is readable by other users on this system! To fix this, you can run 'chmod 600 /home/samarth/.kaggle/kaggle.json'\n",
      "Dataset URL: https://www.kaggle.com/datasets/jayanthchukka/diabetes-dataset-for-beginers\n",
      "License(s): unknown\n",
      "Downloading diabetes-dataset-for-beginers.zip to /home/samarth/jupyter\n",
      "  0%|                                               | 0.00/8.91k [00:00<?, ?B/s]\n",
      "100%|██████████████████████████████████████| 8.91k/8.91k [00:00<00:00, 20.2MB/s]\n"
     ]
    }
   ],
   "source": [
    "!kaggle datasets download -d jayanthchukka/diabetes-dataset-for-beginers --force\n"
   ]
  },
  {
   "cell_type": "code",
   "execution_count": 8,
   "metadata": {
    "colab": {
     "base_uri": "https://localhost:8080/"
    },
    "id": "kdh_P9AeYvIL",
    "outputId": "1d0d536c-c5bb-4cfa-8cb7-a9c5cd7d945c",
    "scrolled": true
   },
   "outputs": [
    {
     "name": "stdout",
     "output_type": "stream",
     "text": [
      "Archive:  diabetes-dataset-for-beginers.zip\n",
      "  inflating: diabetes_dataset/diabetes.csv  \n"
     ]
    }
   ],
   "source": [
    "!unzip -o diabetes-dataset-for-beginers.zip -d diabetes_dataset\n"
   ]
  },
  {
   "cell_type": "code",
   "execution_count": 9,
   "metadata": {
    "colab": {
     "base_uri": "https://localhost:8080/"
    },
    "id": "N3br-nayZUXV",
    "outputId": "cdd635fa-7f46-4bef-e88a-3724d42236c1"
   },
   "outputs": [
    {
     "name": "stdout",
     "output_type": "stream",
     "text": [
      "Requirement already satisfied: opendatasets in ./.venv/lib/python3.12/site-packages (0.1.22)\n",
      "Requirement already satisfied: tqdm in ./.venv/lib/python3.12/site-packages (from opendatasets) (4.66.5)\n",
      "Requirement already satisfied: kaggle in ./.venv/lib/python3.12/site-packages (from opendatasets) (1.6.17)\n",
      "Requirement already satisfied: click in ./.venv/lib/python3.12/site-packages (from opendatasets) (8.1.7)\n",
      "Requirement already satisfied: six>=1.10 in ./.venv/lib/python3.12/site-packages (from kaggle->opendatasets) (1.16.0)\n",
      "Requirement already satisfied: certifi>=2023.7.22 in ./.venv/lib/python3.12/site-packages (from kaggle->opendatasets) (2024.7.4)\n",
      "Requirement already satisfied: python-dateutil in ./.venv/lib/python3.12/site-packages (from kaggle->opendatasets) (2.9.0.post0)\n",
      "Requirement already satisfied: requests in ./.venv/lib/python3.12/site-packages (from kaggle->opendatasets) (2.32.3)\n",
      "Requirement already satisfied: python-slugify in ./.venv/lib/python3.12/site-packages (from kaggle->opendatasets) (8.0.4)\n",
      "Requirement already satisfied: urllib3 in ./.venv/lib/python3.12/site-packages (from kaggle->opendatasets) (2.2.2)\n",
      "Requirement already satisfied: bleach in ./.venv/lib/python3.12/site-packages (from kaggle->opendatasets) (6.1.0)\n",
      "Requirement already satisfied: webencodings in ./.venv/lib/python3.12/site-packages (from bleach->kaggle->opendatasets) (0.5.1)\n",
      "Requirement already satisfied: text-unidecode>=1.3 in ./.venv/lib/python3.12/site-packages (from python-slugify->kaggle->opendatasets) (1.3)\n",
      "Requirement already satisfied: charset-normalizer<4,>=2 in ./.venv/lib/python3.12/site-packages (from requests->kaggle->opendatasets) (3.3.2)\n",
      "Requirement already satisfied: idna<4,>=2.5 in ./.venv/lib/python3.12/site-packages (from requests->kaggle->opendatasets) (3.8)\n"
     ]
    }
   ],
   "source": [
    "!pip install opendatasets"
   ]
  },
  {
   "cell_type": "code",
   "execution_count": 10,
   "metadata": {
    "colab": {
     "base_uri": "https://localhost:8080/"
    },
    "id": "qx4zpGboZ48w",
    "outputId": "2aa18e9f-5d2e-4bdd-fcb0-3929c1a0c7d9"
   },
   "outputs": [
    {
     "name": "stdout",
     "output_type": "stream",
     "text": [
      "Requirement already satisfied: pandas in ./.venv/lib/python3.12/site-packages (2.2.2)\n",
      "Requirement already satisfied: numpy>=1.26.0 in ./.venv/lib/python3.12/site-packages (from pandas) (1.26.4)\n",
      "Requirement already satisfied: python-dateutil>=2.8.2 in ./.venv/lib/python3.12/site-packages (from pandas) (2.9.0.post0)\n",
      "Requirement already satisfied: pytz>=2020.1 in ./.venv/lib/python3.12/site-packages (from pandas) (2024.1)\n",
      "Requirement already satisfied: tzdata>=2022.7 in ./.venv/lib/python3.12/site-packages (from pandas) (2024.1)\n",
      "Requirement already satisfied: six>=1.5 in ./.venv/lib/python3.12/site-packages (from python-dateutil>=2.8.2->pandas) (1.16.0)\n"
     ]
    }
   ],
   "source": [
    "!pip install pandas"
   ]
  },
  {
   "cell_type": "code",
   "execution_count": 11,
   "metadata": {
    "id": "NFJhwikVZ9K6"
   },
   "outputs": [],
   "source": [
    "import opendatasets as od\n",
    "import pandas as pd"
   ]
  },
  {
   "cell_type": "code",
   "execution_count": 12,
   "metadata": {
    "colab": {
     "base_uri": "https://localhost:8080/"
    },
    "id": "W9eZwdqhb-No",
    "outputId": "667e040a-0af7-40f7-e23b-9a0ee560ddc4",
    "scrolled": true
   },
   "outputs": [
    {
     "name": "stdout",
     "output_type": "stream",
     "text": [
      "Please provide your Kaggle credentials to download this dataset. Learn more: http://bit.ly/kaggle-creds\n",
      "Your Kaggle username:"
     ]
    },
    {
     "name": "stdin",
     "output_type": "stream",
     "text": [
      "  samarth75234\n"
     ]
    },
    {
     "name": "stdout",
     "output_type": "stream",
     "text": [
      "Your Kaggle Key:"
     ]
    },
    {
     "name": "stdin",
     "output_type": "stream",
     "text": [
      "  ········\n"
     ]
    },
    {
     "name": "stdout",
     "output_type": "stream",
     "text": [
      "Dataset URL: https://www.kaggle.com/datasets/prathamtripathi/drug-classification\n",
      "Downloading drug-classification.zip to ./drug-classification\n"
     ]
    },
    {
     "name": "stderr",
     "output_type": "stream",
     "text": [
      "100%|██████████████████████████████████████████████████████████████████████████████████| 1.68k/1.68k [00:00<00:00, 4.99MB/s]"
     ]
    },
    {
     "name": "stdout",
     "output_type": "stream",
     "text": [
      "\n"
     ]
    },
    {
     "name": "stderr",
     "output_type": "stream",
     "text": [
      "\n"
     ]
    }
   ],
   "source": [
    "od.download(\"https://www.kaggle.com/datasets/prathamtripathi/drug-classification\")"
   ]
  },
  {
   "cell_type": "code",
   "execution_count": 13,
   "metadata": {
    "id": "1gYkvCMgaRpH"
   },
   "outputs": [],
   "source": [
    "data=pd.read_csv(\"drug-classification/drug200.csv\")"
   ]
  },
  {
   "cell_type": "code",
   "execution_count": 14,
   "metadata": {
    "colab": {
     "base_uri": "https://localhost:8080/",
     "height": 206
    },
    "id": "XvHhjRvGbOK_",
    "outputId": "201a5eca-7dc8-4255-d40c-c86e858477eb"
   },
   "outputs": [
    {
     "data": {
      "text/html": [
       "<div>\n",
       "<style scoped>\n",
       "    .dataframe tbody tr th:only-of-type {\n",
       "        vertical-align: middle;\n",
       "    }\n",
       "\n",
       "    .dataframe tbody tr th {\n",
       "        vertical-align: top;\n",
       "    }\n",
       "\n",
       "    .dataframe thead th {\n",
       "        text-align: right;\n",
       "    }\n",
       "</style>\n",
       "<table border=\"1\" class=\"dataframe\">\n",
       "  <thead>\n",
       "    <tr style=\"text-align: right;\">\n",
       "      <th></th>\n",
       "      <th>Age</th>\n",
       "      <th>Sex</th>\n",
       "      <th>BP</th>\n",
       "      <th>Cholesterol</th>\n",
       "      <th>Na_to_K</th>\n",
       "      <th>Drug</th>\n",
       "    </tr>\n",
       "  </thead>\n",
       "  <tbody>\n",
       "    <tr>\n",
       "      <th>0</th>\n",
       "      <td>23</td>\n",
       "      <td>F</td>\n",
       "      <td>HIGH</td>\n",
       "      <td>HIGH</td>\n",
       "      <td>25.355</td>\n",
       "      <td>DrugY</td>\n",
       "    </tr>\n",
       "    <tr>\n",
       "      <th>1</th>\n",
       "      <td>47</td>\n",
       "      <td>M</td>\n",
       "      <td>LOW</td>\n",
       "      <td>HIGH</td>\n",
       "      <td>13.093</td>\n",
       "      <td>drugC</td>\n",
       "    </tr>\n",
       "    <tr>\n",
       "      <th>2</th>\n",
       "      <td>47</td>\n",
       "      <td>M</td>\n",
       "      <td>LOW</td>\n",
       "      <td>HIGH</td>\n",
       "      <td>10.114</td>\n",
       "      <td>drugC</td>\n",
       "    </tr>\n",
       "    <tr>\n",
       "      <th>3</th>\n",
       "      <td>28</td>\n",
       "      <td>F</td>\n",
       "      <td>NORMAL</td>\n",
       "      <td>HIGH</td>\n",
       "      <td>7.798</td>\n",
       "      <td>drugX</td>\n",
       "    </tr>\n",
       "    <tr>\n",
       "      <th>4</th>\n",
       "      <td>61</td>\n",
       "      <td>F</td>\n",
       "      <td>LOW</td>\n",
       "      <td>HIGH</td>\n",
       "      <td>18.043</td>\n",
       "      <td>DrugY</td>\n",
       "    </tr>\n",
       "  </tbody>\n",
       "</table>\n",
       "</div>"
      ],
      "text/plain": [
       "   Age Sex      BP Cholesterol  Na_to_K   Drug\n",
       "0   23   F    HIGH        HIGH   25.355  DrugY\n",
       "1   47   M     LOW        HIGH   13.093  drugC\n",
       "2   47   M     LOW        HIGH   10.114  drugC\n",
       "3   28   F  NORMAL        HIGH    7.798  drugX\n",
       "4   61   F     LOW        HIGH   18.043  DrugY"
      ]
     },
     "execution_count": 14,
     "metadata": {},
     "output_type": "execute_result"
    }
   ],
   "source": [
    "data.head()"
   ]
  },
  {
   "cell_type": "code",
   "execution_count": 15,
   "metadata": {
    "id": "y8Sku8fKcSSM"
   },
   "outputs": [],
   "source": [
    "from sklearn.preprocessing import LabelEncoder\n",
    "le=LabelEncoder()\n",
    "data['Sex']=le.fit_transform(data['Sex'])\n",
    "data['BP']=le.fit_transform(data['BP'])\n",
    "data['Cholesterol']=le.fit_transform(data['Cholesterol'])\n",
    "data['Drug']=le.fit_transform(data['Drug'])"
   ]
  },
  {
   "cell_type": "code",
   "execution_count": 16,
   "metadata": {
    "id": "_E1W7MByb4uB"
   },
   "outputs": [],
   "source": [
    "import numpy as np\n",
    "import tensorflow as tf\n",
    "import pandas as pd\n",
    "from tensorflow import keras\n",
    "from tensorflow.keras import layers,models\n",
    "from sklearn.model_selection import train_test_split\n",
    "from sklearn.preprocessing import StandardScaler"
   ]
  },
  {
   "cell_type": "code",
   "execution_count": 17,
   "metadata": {
    "colab": {
     "base_uri": "https://localhost:8080/"
    },
    "id": "UUP1feBvcHbX",
    "outputId": "dff61ab7-01f5-483f-8c85-ffa956f0d811"
   },
   "outputs": [
    {
     "data": {
      "text/plain": [
       "Age            0\n",
       "Sex            0\n",
       "BP             0\n",
       "Cholesterol    0\n",
       "Na_to_K        0\n",
       "Drug           0\n",
       "dtype: int64"
      ]
     },
     "execution_count": 17,
     "metadata": {},
     "output_type": "execute_result"
    }
   ],
   "source": [
    "data.isnull().sum()"
   ]
  },
  {
   "cell_type": "code",
   "execution_count": 18,
   "metadata": {
    "colab": {
     "base_uri": "https://localhost:8080/"
    },
    "id": "ol3idctiejUY",
    "outputId": "84faab3b-4bc7-4e99-98af-6689465287cf"
   },
   "outputs": [
    {
     "data": {
      "text/plain": [
       "Drug\n",
       "0    91\n",
       "4    54\n",
       "1    23\n",
       "3    16\n",
       "2    16\n",
       "Name: count, dtype: int64"
      ]
     },
     "execution_count": 18,
     "metadata": {},
     "output_type": "execute_result"
    }
   ],
   "source": [
    "data[\"Drug\"].value_counts()"
   ]
  },
  {
   "cell_type": "code",
   "execution_count": 19,
   "metadata": {
    "id": "iR2K9_HTcLvn"
   },
   "outputs": [],
   "source": [
    "x=data.drop(columns='Drug',axis=1)\n",
    "y=data['Drug']"
   ]
  },
  {
   "cell_type": "code",
   "execution_count": 20,
   "metadata": {
    "id": "vbafuT8RY6nq"
   },
   "outputs": [],
   "source": [
    "obj=StandardScaler()\n",
    "x_=obj.fit_transform(x)"
   ]
  },
  {
   "cell_type": "code",
   "execution_count": 21,
   "metadata": {
    "id": "vYZJ6vP3gYGD"
   },
   "outputs": [],
   "source": [
    "from sklearn.preprocessing import OneHotEncoder\n",
    "\n",
    "encoder = OneHotEncoder()\n",
    "y_reshaped = y.values.reshape(-1, 1)\n",
    "\n",
    "y_encoded = encoder.fit_transform(y_reshaped).toarray()\n",
    "\n",
    "# xtrain,xtest,ytrain_encoded,ytest_encoded=train_test_split(x_,y_encoded,test_size=0.1,random_state=2)\n",
    "# xtrain,xtest,ytrain_encoded,ytest_encoded=train_test_split(x_,y_encoded,test_size=0.2,random_state=2)\n",
    "xtrain,xtest,ytrain_encoded,ytest_encoded=train_test_split(x_,y_encoded,test_size=0.3,random_state=2)"
   ]
  },
  {
   "cell_type": "code",
   "execution_count": 22,
   "metadata": {
    "id": "Hn5mprDJYYmx"
   },
   "outputs": [],
   "source": [
    "def build_model():\n",
    "    model = models.Sequential()\n",
    "    model.add(layers.Dense(100, activation='relu'))\n",
    "    model.add(layers.Dense(75, activation='relu'))\n",
    "    model.add(layers.Dense(50, activation='relu'))\n",
    "    model.add(layers.Dense(25, activation='relu'))\n",
    "    model.add(layers.Dense(12, activation='relu'))\n",
    "    model.add(layers.Dense(6, activation='relu'))\n",
    "    model.add(layers.Dense(5, activation='softmax'))\n",
    "    return model"
   ]
  },
  {
   "cell_type": "code",
   "execution_count": 23,
   "metadata": {},
   "outputs": [
    {
     "name": "stderr",
     "output_type": "stream",
     "text": [
      "2024-11-12 23:31:09.435068: E external/local_xla/xla/stream_executor/cuda/cuda_driver.cc:266] failed call to cuInit: CUDA_ERROR_UNKNOWN: unknown error\n",
      "2024-11-12 23:31:09.435312: I external/local_xla/xla/stream_executor/cuda/cuda_diagnostics.cc:135] retrieving CUDA diagnostic information for host: nimbargi\n",
      "2024-11-12 23:31:09.435332: I external/local_xla/xla/stream_executor/cuda/cuda_diagnostics.cc:142] hostname: nimbargi\n",
      "2024-11-12 23:31:09.435809: I external/local_xla/xla/stream_executor/cuda/cuda_diagnostics.cc:166] libcuda reported version is: 535.183.1\n",
      "2024-11-12 23:31:09.435866: I external/local_xla/xla/stream_executor/cuda/cuda_diagnostics.cc:170] kernel reported version is: 535.183.1\n",
      "2024-11-12 23:31:09.435874: I external/local_xla/xla/stream_executor/cuda/cuda_diagnostics.cc:249] kernel version seems to match DSO: 535.183.1\n"
     ]
    }
   ],
   "source": [
    "from tensorflow.keras.optimizers import SGD, Adam, Adagrad, RMSprop, Nadam\n",
    "optimizers = {\n",
    "    \"SGD\": SGD(),\n",
    "    \"Adam\": Adam(),\n",
    "    \"Adagrad\": Adagrad(),\n",
    "    \"RMSprop\": RMSprop(),\n",
    "    \"Nadam\": Nadam()\n",
    "}"
   ]
  },
  {
   "cell_type": "code",
   "execution_count": null,
   "metadata": {
    "id": "6AgylNseZYT6"
   },
   "outputs": [
    {
     "name": "stdout",
     "output_type": "stream",
     "text": [
      "Training with SGD optimizer...\n",
      "Training time: 2.84s\n",
      "\u001b[1m2/2\u001b[0m \u001b[32m━━━━━━━━━━━━━━━━━━━━\u001b[0m\u001b[37m\u001b[0m \u001b[1m0s\u001b[0m 4ms/step - accuracy: 0.5646 - loss: 1.3471 \n",
      "Training with Adam optimizer...\n",
      "Training time: 3.37s\n",
      "\u001b[1m2/2\u001b[0m \u001b[32m━━━━━━━━━━━━━━━━━━━━\u001b[0m\u001b[37m\u001b[0m \u001b[1m0s\u001b[0m 5ms/step - accuracy: 0.8146 - loss: 1.0585 \n",
      "Training with Adagrad optimizer...\n"
     ]
    }
   ],
   "source": [
    "import time\n",
    "results = {}\n",
    "# Train and evaluate the model with each optimizer\n",
    "for name, opt in optimizers.items():\n",
    "    print(f\"Training with {name} optimizer...\")\n",
    "    model = build_model()\n",
    "    model.compile(optimizer=opt,loss=\"categorical_crossentropy\",metrics=[\"accuracy\"])\n",
    "    start_time = time.time()\n",
    "    history = model.fit(xtrain, ytrain_encoded, epochs=50, validation_data=(xtest, ytest_encoded), verbose=0)\n",
    "    end_time = time.time()\n",
    "    print(f\"Training time: {time.time() - start_time:.2f}s\")\n",
    "    test_loss, test_acc = model.evaluate(xtest,ytest_encoded)\n",
    "    # Store the results\n",
    "    results[opt] = {\n",
    "    \"history\": history.history,\n",
    "    \"test_acc\": test_acc,\n",
    "    \"test_loss\": test_loss,\n",
    "    \"training_time\": end_time - start_time\n",
    "    }\n"
   ]
  },
  {
   "cell_type": "code",
   "execution_count": null,
   "metadata": {
    "colab": {
     "base_uri": "https://localhost:8080/"
    },
    "id": "RlCvFEAKZemH",
    "outputId": "85469d35-031b-42d9-bd70-ad4056796849",
    "scrolled": true
   },
   "outputs": [],
   "source": [
    "import matplotlib.pyplot as plt\n",
    "for optimizer_name, result in results.items():\n",
    "    history = result[\"history\"]\n",
    "    plt.plot(history['accuracy'], label=f'{optimizer_name} Train')\n",
    "    plt.plot(history['val_accuracy'], label=f'{optimizer_name} Val')\n",
    "    plt.xlabel('Epoch')\n",
    "    plt.ylabel('Accuracy')\n",
    "    plt.legend()\n",
    "    plt.title('Training and Validation Accuracy for Different Optimizers')\n",
    "    plt.show()"
   ]
  },
  {
   "cell_type": "code",
   "execution_count": null,
   "metadata": {
    "colab": {
     "base_uri": "https://localhost:8080/"
    },
    "id": "efYpl11NaNYb",
    "outputId": "b35fa67b-bd1a-4e05-9ea4-8b5b05e59e6d"
   },
   "outputs": [],
   "source": [
    "for optimizer_name, result in results.items():\n",
    "    print(f\"{optimizer_name}:\")\n",
    "    print(f\" Test Accuracy: {result['test_acc']:.4f}\")\n",
    "    print(f\" Test Loss: {result['test_loss']:.4f}\")\n",
    "    print(f\" Training Time: {result['training_time']:.2f} seconds\")\n",
    "    print()"
   ]
  },
  {
   "cell_type": "code",
   "execution_count": null,
   "metadata": {},
   "outputs": [],
   "source": []
  },
  {
   "cell_type": "code",
   "execution_count": null,
   "metadata": {},
   "outputs": [],
   "source": []
  },
  {
   "cell_type": "code",
   "execution_count": null,
   "metadata": {},
   "outputs": [],
   "source": []
  },
  {
   "cell_type": "code",
   "execution_count": null,
   "metadata": {},
   "outputs": [],
   "source": []
  }
 ],
 "metadata": {
  "colab": {
   "provenance": []
  },
  "kernelspec": {
   "display_name": "Python 3 (ipykernel)",
   "language": "python",
   "name": "python3"
  },
  "language_info": {
   "codemirror_mode": {
    "name": "ipython",
    "version": 3
   },
   "file_extension": ".py",
   "mimetype": "text/x-python",
   "name": "python",
   "nbconvert_exporter": "python",
   "pygments_lexer": "ipython3",
   "version": "3.12.3"
  }
 },
 "nbformat": 4,
 "nbformat_minor": 4
}
